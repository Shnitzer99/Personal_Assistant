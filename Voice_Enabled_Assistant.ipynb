{
 "cells": [
  {
   "cell_type": "code",
   "execution_count": null,
   "id": "222f2cba",
   "metadata": {},
   "outputs": [],
   "source": [
    "#!pip install SpeechRecognition"
   ]
  },
  {
   "cell_type": "code",
   "execution_count": null,
   "id": "1d0c3d27",
   "metadata": {},
   "outputs": [],
   "source": [
    "#!pip install pipwin"
   ]
  },
  {
   "cell_type": "code",
   "execution_count": null,
   "id": "1bc46d89",
   "metadata": {},
   "outputs": [],
   "source": [
    "#!pipwin install pyaudio"
   ]
  },
  {
   "cell_type": "code",
   "execution_count": null,
   "id": "7eac45f7",
   "metadata": {},
   "outputs": [],
   "source": [
    "#!pip install googlesearch-python"
   ]
  },
  {
   "cell_type": "code",
   "execution_count": null,
   "id": "a737a3b3",
   "metadata": {},
   "outputs": [],
   "source": [
    "#!pip install keyboard"
   ]
  },
  {
   "cell_type": "code",
   "execution_count": null,
   "id": "a10b3eac",
   "metadata": {},
   "outputs": [],
   "source": [
    "#!pip install pyttsx3"
   ]
  },
  {
   "cell_type": "code",
   "execution_count": null,
   "id": "0a37703b",
   "metadata": {},
   "outputs": [],
   "source": [
    "#!pip install selenium"
   ]
  },
  {
   "cell_type": "code",
   "execution_count": null,
   "id": "3b1e9b39",
   "metadata": {},
   "outputs": [],
   "source": [
    "#!pip install fuzzywuzzy"
   ]
  },
  {
   "cell_type": "code",
   "execution_count": null,
   "id": "4b957d72",
   "metadata": {},
   "outputs": [],
   "source": [
    "# import speech_recognition as sr\n",
    "\n",
    "# # Create a recognizer object\n",
    "# r = sr.Recognizer()\n",
    "\n",
    "# # Use the default microphone as the audio source\n",
    "# with sr.Microphone() as source:\n",
    "#     print(\"Speak something...\")\n",
    "#     # Listen for audio and convert it to text\n",
    "#     audio = r.listen(source)\n",
    "\n",
    "# # Use Google Speech Recognition to convert audio to text\n",
    "# try:\n",
    "#     text = r.recognize_google(audio)\n",
    "#     print(f\"You said: {text}\")\n",
    "# except sr.UnknownValueError:\n",
    "#     print(\"Sorry, could not understand audio.\")\n",
    "# except sr.RequestError as e:\n",
    "#     print(f\"Could not request results from Google Speech Recognition service; {e}\")\n"
   ]
  },
  {
   "cell_type": "code",
   "execution_count": 1,
   "id": "0bd4f5e8",
   "metadata": {},
   "outputs": [
    {
     "name": "stderr",
     "output_type": "stream",
     "text": [
      "D:\\Anaconda\\Ana\\envs\\Assistant\\lib\\site-packages\\fuzzywuzzy\\fuzz.py:11: UserWarning: Using slow pure-python SequenceMatcher. Install python-Levenshtein to remove this warning\n",
      "  warnings.warn('Using slow pure-python SequenceMatcher. Install python-Levenshtein to remove this warning')\n"
     ]
    }
   ],
   "source": [
    "#header files\n",
    "import pyttsx3\n",
    "import speech_recognition as sr\n",
    "from googlesearch import search\n",
    "import webbrowser\n",
    "import ctypes\n",
    "from selenium import webdriver\n",
    "import time\n",
    "from fuzzywuzzy import fuzz\n",
    "import datetime"
   ]
  },
  {
   "cell_type": "code",
   "execution_count": 2,
   "id": "ef115b2c",
   "metadata": {},
   "outputs": [],
   "source": [
    "#to record user speech\n",
    "def speak():\n",
    "    r = sr.Recognizer()\n",
    "    with sr.Microphone() as source:\n",
    "        print(\"Accepting voice\")\n",
    "        audio = r.listen(source)\n",
    "    text = r.recognize_google(audio)\n",
    "    return text"
   ]
  },
  {
   "cell_type": "code",
   "execution_count": 3,
   "id": "0bcd41fb",
   "metadata": {},
   "outputs": [],
   "source": [
    "#to make python speak\n",
    "def read(text):\n",
    "    engine = pyttsx3.init()\n",
    "    voices = engine.getProperty('voices')\n",
    "    engine.setProperty('voice', voices[1].id)\n",
    "    engine.say(text)\n",
    "    engine.runAndWait()"
   ]
  },
  {
   "cell_type": "code",
   "execution_count": 4,
   "id": "30130f46",
   "metadata": {},
   "outputs": [],
   "source": [
    "# while True:\n",
    "#     text=speak()\n",
    "#     if text == 'stop':\n",
    "#         break\n",
    "#     else:\n",
    "#         continue"
   ]
  },
  {
   "cell_type": "code",
   "execution_count": 5,
   "id": "30fd8657",
   "metadata": {},
   "outputs": [],
   "source": [
    "######################for web-search use case\n",
    "\n",
    "def webs():\n",
    "    read('State your Query')\n",
    "    query = speak()\n",
    "    num_results = 5  # number of search results to retrieve\n",
    "    ls=[]\n",
    "    for url in search(query, num_results=num_results):\n",
    "        ls.append(url)\n",
    "    for i in range (0,len(ls)):\n",
    "        print(i+1,': ',ls[i])\n",
    "    read('Which browser do you want to open?')\n",
    "    text = speak()\n",
    "    word_to_number = {\n",
    "        'first': 1,\n",
    "        'second': 2,\n",
    "        'third': 3,\n",
    "        'fourth': 4,\n",
    "        'fifth': 5,\n",
    "    }\n",
    "    number = word_to_number.get(text)\n",
    "    webbrowser.open_new_tab(ls[number-1])"
   ]
  },
  {
   "cell_type": "code",
   "execution_count": 6,
   "id": "adde6f41",
   "metadata": {},
   "outputs": [],
   "source": [
    "############################for locking screen use case\n",
    "\n",
    "\n",
    "def Locscr():\n",
    "    read('Do you want to Lock the workstation?')\n",
    "    answer=speak()\n",
    "    if answer == 'yes':\n",
    "        ctypes.windll.user32.LockWorkStation()\n",
    "    else:\n",
    "        read('Okay')"
   ]
  },
  {
   "cell_type": "code",
   "execution_count": 7,
   "id": "99439feb",
   "metadata": {},
   "outputs": [],
   "source": [
    "##########################for playing songs in youtube\n",
    "\n",
    "\n",
    "def yout():\n",
    "    read('Give the name of the song')\n",
    "    name=speak()\n",
    "    read('Okay, Searching in youtube')\n",
    "    # Set up the web driver\n",
    "    driver = webdriver.Chrome()\n",
    "    driver.maximize_window()\n",
    "    # Navigate to the YouTube website\n",
    "    driver.get(\"https://www.youtube.com/\")\n",
    "    \n",
    "    # Find the search box element and enter the search query\n",
    "    search_box = driver.find_element(\"name\", \"search_query\")\n",
    "    search_box.send_keys(name)\n",
    "    search_box.submit()\n",
    "    \n",
    "    # Wait for the search results to load\n",
    "    time.sleep(2)\n",
    "    \n",
    "    # Find the first video element and click on it to play the video\n",
    "    first_video = driver.find_element('xpath','//*[@id=\"contents\"]/ytd-video-renderer[1]')\n",
    "    first_video.click()\n",
    "    \n",
    "    \n",
    "    # Wait for the video to start playing\n",
    "    time.sleep(5)\n",
    "    \n",
    "#     duration_element = driver.find_element('xpath',\"//span[@class='ytp-time-duration']\")\n",
    "#     duration_text = duration_element.text\n",
    "#     print(duration_text)\n",
    "#     dur=int(duration_text)\n",
    "    time.sleep(500)\n",
    "    # Close the browser window\n",
    "    # driver.quit()\n",
    "\n"
   ]
  },
  {
   "cell_type": "code",
   "execution_count": 8,
   "id": "324cd5b3",
   "metadata": {},
   "outputs": [],
   "source": [
    "#for opening other apps\n",
    "# import subprocess\n",
    "\n",
    "# program_path = \"C:/Program Files/Example/program.exe\"\n",
    "\n",
    "# subprocess.Popen(program_path)\n",
    "\n",
    "#subprocess.run(['python', 'path/to/other_file.py'])"
   ]
  },
  {
   "cell_type": "code",
   "execution_count": 9,
   "id": "c86cf872",
   "metadata": {},
   "outputs": [],
   "source": [
    "#for keyboard inputs\n",
    "# import keyboard\n",
    "\n",
    "# keyboard.press_and_release('windows+l')"
   ]
  },
  {
   "cell_type": "code",
   "execution_count": 10,
   "id": "d5d55997",
   "metadata": {},
   "outputs": [],
   "source": [
    "#for push to talk using ctrl\n",
    "# import keyboard\n",
    "# import speech_recognition as sr\n",
    "\n",
    "# def speak():\n",
    "#     r = sr.Recognizer()\n",
    "#     with sr.Microphone() as source:\n",
    "#         print(\"Press and hold the Ctrl key to start speaking...\")\n",
    "#         while True:\n",
    "#             if keyboard.is_pressed('ctrl'):\n",
    "#                 print(\"Recording...\")\n",
    "#                 audio = r.listen(source)\n",
    "#                 print(\"Recording complete.\")\n",
    "#                 break\n",
    "#     text = r.recognize_google(audio)\n",
    "#     return text"
   ]
  },
  {
   "cell_type": "code",
   "execution_count": 11,
   "id": "7bb26d6c",
   "metadata": {},
   "outputs": [],
   "source": [
    "#for deciding the user command\n",
    "\n",
    "\n",
    "def process_input(input_text):\n",
    "    input_text = input_text.lower() # convert input to lowercase\n",
    "    if fuzz.partial_ratio(input_text, 'current time') >= 90: # check similarity\n",
    "        return 'current time'\n",
    "    elif fuzz.partial_ratio(input_text, 'song') >= 90:\n",
    "        return 'youtube'\n",
    "    elif fuzz.partial_ratio(input_text, 'youtube') >= 90:\n",
    "        return 'youtube'\n",
    "    elif fuzz.partial_ratio(input_text, 'search') >= 90:\n",
    "        return 'website'\n",
    "    elif fuzz.partial_ratio(input_text, 'websearch') >= 90:\n",
    "        return 'website'\n",
    "    elif fuzz.partial_ratio(input_text, 'lock') >=90:\n",
    "        return 'Lock'\n",
    "    else:\n",
    "        return 'unknown input'\n"
   ]
  },
  {
   "cell_type": "code",
   "execution_count": 12,
   "id": "c10e438f",
   "metadata": {},
   "outputs": [],
   "source": [
    "def Activate():\n",
    "    read('Welcome to Personal Voice Assistant')\n",
    "    while True:\n",
    "        read('How may i help you?')\n",
    "        answer=speak()\n",
    "        decode=process_input(answer)\n",
    "        if decode == 'current time':\n",
    "            current_time = datetime.datetime.now()\n",
    "            time_out=\"The current time is\"+str(current_time.time())\n",
    "            read(time_out)\n",
    "        elif decode == 'youtube':\n",
    "            yout()\n",
    "        elif decode == 'Lock':\n",
    "            Locscr()\n",
    "        elif decode == 'website':\n",
    "            webs()\n",
    "        elif decode == 'unknown input':\n",
    "            read('Sorry, i was unable to understand your command')\n",
    "        read('Do You want to continue?')\n",
    "        read('Say Yes or No')\n",
    "        reply=speak()\n",
    "        if reply == 'no':\n",
    "            read('Ok, Thank you for using Personal Voice Assistant')\n",
    "            break\n",
    "\n",
    "        "
   ]
  },
  {
   "cell_type": "code",
   "execution_count": 13,
   "id": "a45ec8c3",
   "metadata": {},
   "outputs": [],
   "source": [
    "\n",
    "\n",
    "# # get current time\n",
    "# current_time = datetime.datetime.now()\n",
    "\n",
    "# # print current time\n",
    "# print(\"The current time is:\", current_time.time())"
   ]
  },
  {
   "cell_type": "code",
   "execution_count": null,
   "id": "32f8acca",
   "metadata": {},
   "outputs": [
    {
     "name": "stdout",
     "output_type": "stream",
     "text": [
      "Accepting voice\n",
      "Accepting voice\n"
     ]
    }
   ],
   "source": [
    "Activate()"
   ]
  },
  {
   "cell_type": "code",
   "execution_count": null,
   "id": "a28717a9",
   "metadata": {},
   "outputs": [],
   "source": []
  }
 ],
 "metadata": {
  "kernelspec": {
   "display_name": "Python 3 (ipykernel)",
   "language": "python",
   "name": "python3"
  },
  "language_info": {
   "codemirror_mode": {
    "name": "ipython",
    "version": 3
   },
   "file_extension": ".py",
   "mimetype": "text/x-python",
   "name": "python",
   "nbconvert_exporter": "python",
   "pygments_lexer": "ipython3",
   "version": "3.10.11"
  }
 },
 "nbformat": 4,
 "nbformat_minor": 5
}
